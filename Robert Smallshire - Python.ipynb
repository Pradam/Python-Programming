{
 "cells": [
  {
   "cell_type": "code",
   "execution_count": 48,
   "metadata": {},
   "outputs": [],
   "source": [
    "# Property in Python\n",
    "from weakref import WeakKeyDictionary\n",
    "\n",
    "class Positive:\n",
    "    def __init__(self):\n",
    "        self._instance_data = WeakKeyDictionary()\n",
    "    \n",
    "    def __get__(self, instance, owner):\n",
    "        if instance is None:\n",
    "            return self\n",
    "        return self._instance_data[instance]\n",
    "    \n",
    "    def __set__(self, instance, value):\n",
    "        if value <= 0:\n",
    "            raise ValueError(\"Value {} is not positive\".format(value))\n",
    "        self._instance_data[instance] = value\n",
    "    \n",
    "    def __delete__(self, instance):\n",
    "        raise AttributeError(\"Cannot delete attribute.\")\n",
    "    \n",
    "class Planet:\n",
    "    def __init__(self, name, radius, mass, period, temp):\n",
    "        self.name = name\n",
    "        self.radius = radius\n",
    "        self.mass = mass\n",
    "        self.period = period\n",
    "        self.temp = temp\n",
    "    \n",
    "    @property\n",
    "    def name(self):\n",
    "        return self.radius\n",
    "    \n",
    "    @name.setter\n",
    "    def name(self, value):\n",
    "        if not value:\n",
    "            raise ValueError(\"Cannot set empty Planet Name.\")\n",
    "        return value\n",
    "    \n",
    "    radius = Positive()\n",
    "    mass = Positive()\n",
    "    period = Positive()\n",
    "    temp = Positive()"
   ]
  },
  {
   "cell_type": "code",
   "execution_count": 46,
   "metadata": {},
   "outputs": [],
   "source": [
    "mercury = Planet(\"Mercury\", 2439.7e3, 3.3, 7.6, 340)\n",
    "venus = Planet(\"Venus\", 6051, 4.8, 1.9, 737)\n",
    "earth = Planet(\"Earth\",6371, 5.9, 3.155, 288)\n",
    "mars = Planet(\"Mars\", 3389, 6.41, 5.9, 210)"
   ]
  },
  {
   "cell_type": "code",
   "execution_count": 47,
   "metadata": {},
   "outputs": [
    {
     "data": {
      "text/plain": [
       "2439700.0"
      ]
     },
     "execution_count": 47,
     "metadata": {},
     "output_type": "execute_result"
    }
   ],
   "source": [
    "mercury.radius"
   ]
  },
  {
   "cell_type": "code",
   "execution_count": null,
   "metadata": {
    "collapsed": true
   },
   "outputs": [],
   "source": []
  }
 ],
 "metadata": {
  "kernelspec": {
   "display_name": "Python 3",
   "language": "python",
   "name": "python3"
  },
  "language_info": {
   "codemirror_mode": {
    "name": "ipython",
    "version": 3
   },
   "file_extension": ".py",
   "mimetype": "text/x-python",
   "name": "python",
   "nbconvert_exporter": "python",
   "pygments_lexer": "ipython3",
   "version": "3.6.1"
  }
 },
 "nbformat": 4,
 "nbformat_minor": 2
}
